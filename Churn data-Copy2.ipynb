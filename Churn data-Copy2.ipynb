{
 "cells": [
  {
   "cell_type": "code",
   "execution_count": 46,
   "id": "6c11353d",
   "metadata": {},
   "outputs": [],
   "source": [
    "import pandas as pd\n",
    "import numpy as np\n",
    "import matplotlib.pyplot as plt"
   ]
  },
  {
   "cell_type": "code",
   "execution_count": 47,
   "id": "e991a88b",
   "metadata": {},
   "outputs": [
    {
     "data": {
      "text/html": [
       "<div>\n",
       "<style scoped>\n",
       "    .dataframe tbody tr th:only-of-type {\n",
       "        vertical-align: middle;\n",
       "    }\n",
       "\n",
       "    .dataframe tbody tr th {\n",
       "        vertical-align: top;\n",
       "    }\n",
       "\n",
       "    .dataframe thead th {\n",
       "        text-align: right;\n",
       "    }\n",
       "</style>\n",
       "<table border=\"1\" class=\"dataframe\">\n",
       "  <thead>\n",
       "    <tr style=\"text-align: right;\">\n",
       "      <th></th>\n",
       "      <th>visitorid</th>\n",
       "      <th>ses_rec</th>\n",
       "      <th>ses_rec_avg</th>\n",
       "      <th>ses_rec_sd</th>\n",
       "      <th>ses_rec_cv</th>\n",
       "      <th>user_rec</th>\n",
       "      <th>ses_n</th>\n",
       "      <th>ses_n_r</th>\n",
       "      <th>int_n</th>\n",
       "      <th>int_n_r</th>\n",
       "      <th>...</th>\n",
       "      <th>int_cat16_n</th>\n",
       "      <th>int_cat17_n</th>\n",
       "      <th>int_cat18_n</th>\n",
       "      <th>int_cat19_n</th>\n",
       "      <th>int_cat20_n</th>\n",
       "      <th>int_cat21_n</th>\n",
       "      <th>int_cat22_n</th>\n",
       "      <th>int_cat23_n</th>\n",
       "      <th>int_cat24_n</th>\n",
       "      <th>target_class</th>\n",
       "    </tr>\n",
       "  </thead>\n",
       "  <tbody>\n",
       "    <tr>\n",
       "      <th>0</th>\n",
       "      <td>89</td>\n",
       "      <td>23.0</td>\n",
       "      <td>16.0</td>\n",
       "      <td>0.0</td>\n",
       "      <td>0.0</td>\n",
       "      <td>39.0</td>\n",
       "      <td>2.0</td>\n",
       "      <td>0.051282</td>\n",
       "      <td>3.0</td>\n",
       "      <td>1.500000</td>\n",
       "      <td>...</td>\n",
       "      <td>0</td>\n",
       "      <td>0</td>\n",
       "      <td>0</td>\n",
       "      <td>0</td>\n",
       "      <td>3</td>\n",
       "      <td>0</td>\n",
       "      <td>0</td>\n",
       "      <td>0</td>\n",
       "      <td>0</td>\n",
       "      <td>1</td>\n",
       "    </tr>\n",
       "    <tr>\n",
       "      <th>1</th>\n",
       "      <td>251</td>\n",
       "      <td>23.0</td>\n",
       "      <td>61.0</td>\n",
       "      <td>0.0</td>\n",
       "      <td>0.0</td>\n",
       "      <td>85.0</td>\n",
       "      <td>2.0</td>\n",
       "      <td>0.023529</td>\n",
       "      <td>2.0</td>\n",
       "      <td>1.000000</td>\n",
       "      <td>...</td>\n",
       "      <td>0</td>\n",
       "      <td>0</td>\n",
       "      <td>0</td>\n",
       "      <td>0</td>\n",
       "      <td>0</td>\n",
       "      <td>0</td>\n",
       "      <td>1</td>\n",
       "      <td>0</td>\n",
       "      <td>0</td>\n",
       "      <td>1</td>\n",
       "    </tr>\n",
       "    <tr>\n",
       "      <th>2</th>\n",
       "      <td>270</td>\n",
       "      <td>14.0</td>\n",
       "      <td>0.1</td>\n",
       "      <td>0.3</td>\n",
       "      <td>3.0</td>\n",
       "      <td>21.0</td>\n",
       "      <td>11.0</td>\n",
       "      <td>0.523810</td>\n",
       "      <td>13.0</td>\n",
       "      <td>1.181818</td>\n",
       "      <td>...</td>\n",
       "      <td>0</td>\n",
       "      <td>0</td>\n",
       "      <td>0</td>\n",
       "      <td>0</td>\n",
       "      <td>0</td>\n",
       "      <td>0</td>\n",
       "      <td>13</td>\n",
       "      <td>0</td>\n",
       "      <td>0</td>\n",
       "      <td>1</td>\n",
       "    </tr>\n",
       "    <tr>\n",
       "      <th>3</th>\n",
       "      <td>298</td>\n",
       "      <td>11.0</td>\n",
       "      <td>13.0</td>\n",
       "      <td>0.0</td>\n",
       "      <td>0.0</td>\n",
       "      <td>24.0</td>\n",
       "      <td>2.0</td>\n",
       "      <td>0.083333</td>\n",
       "      <td>4.0</td>\n",
       "      <td>2.000000</td>\n",
       "      <td>...</td>\n",
       "      <td>0</td>\n",
       "      <td>0</td>\n",
       "      <td>0</td>\n",
       "      <td>3</td>\n",
       "      <td>1</td>\n",
       "      <td>0</td>\n",
       "      <td>0</td>\n",
       "      <td>0</td>\n",
       "      <td>0</td>\n",
       "      <td>1</td>\n",
       "    </tr>\n",
       "    <tr>\n",
       "      <th>4</th>\n",
       "      <td>474</td>\n",
       "      <td>16.0</td>\n",
       "      <td>26.0</td>\n",
       "      <td>0.0</td>\n",
       "      <td>0.0</td>\n",
       "      <td>43.0</td>\n",
       "      <td>2.0</td>\n",
       "      <td>0.046512</td>\n",
       "      <td>2.0</td>\n",
       "      <td>1.000000</td>\n",
       "      <td>...</td>\n",
       "      <td>2</td>\n",
       "      <td>0</td>\n",
       "      <td>0</td>\n",
       "      <td>0</td>\n",
       "      <td>0</td>\n",
       "      <td>0</td>\n",
       "      <td>0</td>\n",
       "      <td>0</td>\n",
       "      <td>0</td>\n",
       "      <td>1</td>\n",
       "    </tr>\n",
       "  </tbody>\n",
       "</table>\n",
       "<p>5 rows × 49 columns</p>\n",
       "</div>"
      ],
      "text/plain": [
       "   visitorid  ses_rec  ses_rec_avg  ses_rec_sd  ses_rec_cv  user_rec  ses_n  \\\n",
       "0         89     23.0         16.0         0.0         0.0      39.0    2.0   \n",
       "1        251     23.0         61.0         0.0         0.0      85.0    2.0   \n",
       "2        270     14.0          0.1         0.3         3.0      21.0   11.0   \n",
       "3        298     11.0         13.0         0.0         0.0      24.0    2.0   \n",
       "4        474     16.0         26.0         0.0         0.0      43.0    2.0   \n",
       "\n",
       "    ses_n_r  int_n   int_n_r  ...  int_cat16_n  int_cat17_n  int_cat18_n  \\\n",
       "0  0.051282    3.0  1.500000  ...            0            0            0   \n",
       "1  0.023529    2.0  1.000000  ...            0            0            0   \n",
       "2  0.523810   13.0  1.181818  ...            0            0            0   \n",
       "3  0.083333    4.0  2.000000  ...            0            0            0   \n",
       "4  0.046512    2.0  1.000000  ...            2            0            0   \n",
       "\n",
       "   int_cat19_n  int_cat20_n  int_cat21_n  int_cat22_n  int_cat23_n  \\\n",
       "0            0            3            0            0            0   \n",
       "1            0            0            0            1            0   \n",
       "2            0            0            0           13            0   \n",
       "3            3            1            0            0            0   \n",
       "4            0            0            0            0            0   \n",
       "\n",
       "   int_cat24_n  target_class  \n",
       "0            0             1  \n",
       "1            0             1  \n",
       "2            0             1  \n",
       "3            0             1  \n",
       "4            0             1  \n",
       "\n",
       "[5 rows x 49 columns]"
      ]
     },
     "execution_count": 47,
     "metadata": {},
     "output_type": "execute_result"
    }
   ],
   "source": [
    "data = pd.read_csv(\"C:/Users/HP/Downloads/ecom-user-churn-data.csv/ecom-user-churn-data.csv\")\n",
    "data.head()"
   ]
  },
  {
   "cell_type": "code",
   "execution_count": 9,
   "id": "b1cb593b",
   "metadata": {},
   "outputs": [],
   "source": [
    "from sklearn.preprocessing import StandardScaler\n",
    "scale = StandardScaler()\n",
    "data_scaled = scale.fit_transform(data)"
   ]
  },
  {
   "cell_type": "markdown",
   "id": "d591de7d",
   "metadata": {},
   "source": [
    "# Logistic regression"
   ]
  },
  {
   "cell_type": "code",
   "execution_count": 48,
   "id": "ca5126f4",
   "metadata": {},
   "outputs": [],
   "source": [
    "x= data.iloc[:,:-1].values\n",
    "y= data.iloc[:,-1].values"
   ]
  },
  {
   "cell_type": "code",
   "execution_count": 49,
   "id": "a7a8230a",
   "metadata": {},
   "outputs": [
    {
     "name": "stdout",
     "output_type": "stream",
     "text": [
      "[1 1 1 ... 1 1 1]\n"
     ]
    }
   ],
   "source": [
    "print(y)"
   ]
  },
  {
   "cell_type": "code",
   "execution_count": 50,
   "id": "0a67dd14",
   "metadata": {},
   "outputs": [],
   "source": [
    "from sklearn.model_selection import train_test_split\n",
    "x_train,x_test,y_train,y_test=train_test_split(x,y,test_size=0.2,random_state=1)"
   ]
  },
  {
   "cell_type": "code",
   "execution_count": 51,
   "id": "38891de6",
   "metadata": {},
   "outputs": [],
   "source": [
    "from sklearn.preprocessing import StandardScaler\n",
    "sc = StandardScaler()\n",
    "x_train = sc.fit_transform(x_train)\n",
    "x_test = sc.transform(x_test)"
   ]
  },
  {
   "cell_type": "code",
   "execution_count": 52,
   "id": "729d611c",
   "metadata": {},
   "outputs": [
    {
     "data": {
      "text/plain": [
       "LogisticRegression(random_state=0)"
      ]
     },
     "execution_count": 52,
     "metadata": {},
     "output_type": "execute_result"
    }
   ],
   "source": [
    "from sklearn.linear_model import LogisticRegression\n",
    "classifier1= LogisticRegression(random_state=0)\n",
    "classifier1.fit(x_train,y_train)"
   ]
  },
  {
   "cell_type": "code",
   "execution_count": 53,
   "id": "40d1471f",
   "metadata": {},
   "outputs": [
    {
     "name": "stdout",
     "output_type": "stream",
     "text": [
      "[[1 1]\n",
      " [1 1]\n",
      " [1 1]\n",
      " ...\n",
      " [1 1]\n",
      " [1 1]\n",
      " [1 0]]\n"
     ]
    }
   ],
   "source": [
    "y_pred1= classifier1.predict(x_test)\n",
    "np.set_printoptions(precision=2)#TWO DIGIT AFTER DECIMAL\n",
    "print(np.concatenate((y_pred1.reshape(len(y_pred1),1),y_test.reshape(len(y_test),1)),axis=1))"
   ]
  },
  {
   "cell_type": "code",
   "execution_count": 54,
   "id": "5a9eb45f",
   "metadata": {},
   "outputs": [
    {
     "data": {
      "text/plain": [
       "array([[ 114, 1060],\n",
       "       [  48, 8650]], dtype=int64)"
      ]
     },
     "execution_count": 54,
     "metadata": {},
     "output_type": "execute_result"
    }
   ],
   "source": [
    "from sklearn.metrics import confusion_matrix, accuracy_score\n",
    "confusion_matrix(y_test,y_pred1)\n"
   ]
  },
  {
   "cell_type": "code",
   "execution_count": 55,
   "id": "32709a26",
   "metadata": {},
   "outputs": [
    {
     "data": {
      "text/plain": [
       "0.8877633711507293"
      ]
     },
     "execution_count": 55,
     "metadata": {},
     "output_type": "execute_result"
    }
   ],
   "source": [
    "accuracy_score(y_test,y_pred1)"
   ]
  },
  {
   "cell_type": "code",
   "execution_count": 56,
   "id": "25bc9d21",
   "metadata": {},
   "outputs": [
    {
     "name": "stdout",
     "output_type": "stream",
     "text": [
      "              precision    recall  f1-score   support\n",
      "\n",
      "           0       0.70      0.10      0.17      1174\n",
      "           1       0.89      0.99      0.94      8698\n",
      "\n",
      "    accuracy                           0.89      9872\n",
      "   macro avg       0.80      0.55      0.56      9872\n",
      "weighted avg       0.87      0.89      0.85      9872\n",
      "\n"
     ]
    }
   ],
   "source": [
    "from sklearn.metrics import classification_report\n",
    "print(classification_report(y_test,y_pred1))"
   ]
  },
  {
   "cell_type": "markdown",
   "id": "4eee8e5b",
   "metadata": {},
   "source": [
    "# Decision tree"
   ]
  },
  {
   "cell_type": "code",
   "execution_count": 58,
   "id": "01c7a884",
   "metadata": {},
   "outputs": [
    {
     "data": {
      "text/plain": [
       "DecisionTreeClassifier(max_depth=3, max_features=7, min_samples_leaf=8,\n",
       "                       random_state=4)"
      ]
     },
     "execution_count": 58,
     "metadata": {},
     "output_type": "execute_result"
    }
   ],
   "source": [
    "from sklearn.tree import DecisionTreeClassifier\n",
    "classifier2= DecisionTreeClassifier(criterion='gini', max_depth= 3, max_features= 7, min_samples_leaf= 8,random_state=4)\n",
    "classifier2.fit(x_train,y_train)"
   ]
  },
  {
   "cell_type": "code",
   "execution_count": 59,
   "id": "ca093de6",
   "metadata": {},
   "outputs": [
    {
     "name": "stdout",
     "output_type": "stream",
     "text": [
      "[[1 1]\n",
      " [1 1]\n",
      " [1 1]\n",
      " ...\n",
      " [1 1]\n",
      " [1 1]\n",
      " [1 0]]\n"
     ]
    }
   ],
   "source": [
    "y_pred2= classifier2.predict(x_test)\n",
    "np.set_printoptions(precision=2)#TWO DIGIT AFTER DECIMAL\n",
    "print(np.concatenate((y_pred2.reshape(len(y_pred2),1),y_test.reshape(len(y_test),1)),axis=1))"
   ]
  },
  {
   "cell_type": "code",
   "execution_count": 60,
   "id": "0b4e4f33",
   "metadata": {},
   "outputs": [
    {
     "data": {
      "text/plain": [
       "array([[  83, 1091],\n",
       "       [  35, 8663]], dtype=int64)"
      ]
     },
     "execution_count": 60,
     "metadata": {},
     "output_type": "execute_result"
    }
   ],
   "source": [
    "from sklearn.metrics import confusion_matrix, accuracy_score\n",
    "confusion_matrix(y_test,y_pred2)\n"
   ]
  },
  {
   "cell_type": "code",
   "execution_count": 61,
   "id": "0c44571b",
   "metadata": {},
   "outputs": [
    {
     "data": {
      "text/plain": [
       "0.8859400324149108"
      ]
     },
     "execution_count": 61,
     "metadata": {},
     "output_type": "execute_result"
    }
   ],
   "source": [
    "accuracy_score(y_test,y_pred2)"
   ]
  },
  {
   "cell_type": "code",
   "execution_count": 62,
   "id": "b68a464f",
   "metadata": {},
   "outputs": [
    {
     "name": "stdout",
     "output_type": "stream",
     "text": [
      "              precision    recall  f1-score   support\n",
      "\n",
      "           0       0.70      0.07      0.13      1174\n",
      "           1       0.89      1.00      0.94      8698\n",
      "\n",
      "    accuracy                           0.89      9872\n",
      "   macro avg       0.80      0.53      0.53      9872\n",
      "weighted avg       0.87      0.89      0.84      9872\n",
      "\n"
     ]
    }
   ],
   "source": [
    "from sklearn.metrics import classification_report\n",
    "print(classification_report(y_test,y_pred2))"
   ]
  },
  {
   "cell_type": "markdown",
   "id": "3b3f2881",
   "metadata": {},
   "source": [
    "# K-NN"
   ]
  },
  {
   "cell_type": "code",
   "execution_count": 22,
   "id": "9067ad70",
   "metadata": {},
   "outputs": [
    {
     "data": {
      "text/plain": [
       "KNeighborsClassifier()"
      ]
     },
     "execution_count": 22,
     "metadata": {},
     "output_type": "execute_result"
    }
   ],
   "source": [
    "from sklearn.neighbors import KNeighborsClassifier\n",
    "classifier3= KNeighborsClassifier()\n",
    "classifier3.fit(x_train,y_train)"
   ]
  },
  {
   "cell_type": "code",
   "execution_count": 23,
   "id": "2226cbe2",
   "metadata": {},
   "outputs": [
    {
     "name": "stdout",
     "output_type": "stream",
     "text": [
      "[[1 1]\n",
      " [1 1]\n",
      " [1 1]\n",
      " ...\n",
      " [1 1]\n",
      " [1 1]\n",
      " [1 0]]\n"
     ]
    }
   ],
   "source": [
    "y_pred3= classifier3.predict(x_test)\n",
    "np.set_printoptions(precision=2)#TWO DIGIT AFTER DECIMAL\n",
    "print(np.concatenate((y_pred3.reshape(len(y_pred3),1),y_test.reshape(len(y_test),1)),axis=1))"
   ]
  },
  {
   "cell_type": "code",
   "execution_count": 24,
   "id": "ac23f1c0",
   "metadata": {},
   "outputs": [
    {
     "data": {
      "text/plain": [
       "array([[ 115, 1059],\n",
       "       [ 177, 8521]], dtype=int64)"
      ]
     },
     "execution_count": 24,
     "metadata": {},
     "output_type": "execute_result"
    }
   ],
   "source": [
    "from sklearn.metrics import confusion_matrix, accuracy_score\n",
    "confusion_matrix(y_test,y_pred3)"
   ]
  },
  {
   "cell_type": "code",
   "execution_count": 25,
   "id": "5bd59024",
   "metadata": {},
   "outputs": [
    {
     "data": {
      "text/plain": [
       "0.8747974068071313"
      ]
     },
     "execution_count": 25,
     "metadata": {},
     "output_type": "execute_result"
    }
   ],
   "source": [
    "accuracy_score(y_test,y_pred3)"
   ]
  },
  {
   "cell_type": "code",
   "execution_count": 26,
   "id": "09c5fbd3",
   "metadata": {},
   "outputs": [
    {
     "name": "stdout",
     "output_type": "stream",
     "text": [
      "              precision    recall  f1-score   support\n",
      "\n",
      "           0       0.39      0.10      0.16      1174\n",
      "           1       0.89      0.98      0.93      8698\n",
      "\n",
      "    accuracy                           0.87      9872\n",
      "   macro avg       0.64      0.54      0.54      9872\n",
      "weighted avg       0.83      0.87      0.84      9872\n",
      "\n"
     ]
    }
   ],
   "source": [
    "from sklearn.metrics import classification_report\n",
    "print(classification_report(y_test,y_pred3))"
   ]
  },
  {
   "cell_type": "markdown",
   "id": "7420e01d",
   "metadata": {},
   "source": [
    "# Naive bayes"
   ]
  },
  {
   "cell_type": "code",
   "execution_count": 27,
   "id": "380108a6",
   "metadata": {},
   "outputs": [
    {
     "data": {
      "text/plain": [
       "GaussianNB()"
      ]
     },
     "execution_count": 27,
     "metadata": {},
     "output_type": "execute_result"
    }
   ],
   "source": [
    "from sklearn.naive_bayes import GaussianNB\n",
    "classifier4= GaussianNB()\n",
    "classifier4.fit(x_train,y_train)"
   ]
  },
  {
   "cell_type": "code",
   "execution_count": 28,
   "id": "d7ed5d4b",
   "metadata": {},
   "outputs": [
    {
     "name": "stdout",
     "output_type": "stream",
     "text": [
      "[[1 1]\n",
      " [1 1]\n",
      " [1 1]\n",
      " ...\n",
      " [1 1]\n",
      " [1 1]\n",
      " [1 0]]\n"
     ]
    }
   ],
   "source": [
    "y_pred4= classifier4.predict(x_test)\n",
    "np.set_printoptions(precision=2)#TWO DIGIT AFTER DECIMAL\n",
    "print(np.concatenate((y_pred4.reshape(len(y_pred4),1),y_test.reshape(len(y_test),1)),axis=1))"
   ]
  },
  {
   "cell_type": "code",
   "execution_count": 29,
   "id": "0eea1ab9",
   "metadata": {},
   "outputs": [
    {
     "data": {
      "text/plain": [
       "array([[ 133, 1041],\n",
       "       [ 256, 8442]], dtype=int64)"
      ]
     },
     "execution_count": 29,
     "metadata": {},
     "output_type": "execute_result"
    }
   ],
   "source": [
    "from sklearn.metrics import confusion_matrix, accuracy_score\n",
    "confusion_matrix(y_test,y_pred4)"
   ]
  },
  {
   "cell_type": "code",
   "execution_count": 30,
   "id": "10213284",
   "metadata": {},
   "outputs": [
    {
     "data": {
      "text/plain": [
       "0.8686183144246353"
      ]
     },
     "execution_count": 30,
     "metadata": {},
     "output_type": "execute_result"
    }
   ],
   "source": [
    "accuracy_score(y_test,y_pred4)"
   ]
  },
  {
   "cell_type": "code",
   "execution_count": 31,
   "id": "52e462c8",
   "metadata": {},
   "outputs": [
    {
     "name": "stdout",
     "output_type": "stream",
     "text": [
      "              precision    recall  f1-score   support\n",
      "\n",
      "           0       0.34      0.11      0.17      1174\n",
      "           1       0.89      0.97      0.93      8698\n",
      "\n",
      "    accuracy                           0.87      9872\n",
      "   macro avg       0.62      0.54      0.55      9872\n",
      "weighted avg       0.83      0.87      0.84      9872\n",
      "\n"
     ]
    }
   ],
   "source": [
    "from sklearn.metrics import classification_report\n",
    "print(classification_report(y_test,y_pred4))"
   ]
  },
  {
   "cell_type": "markdown",
   "id": "a8fe438a",
   "metadata": {},
   "source": [
    "# Random Forest"
   ]
  },
  {
   "cell_type": "code",
   "execution_count": 8,
   "id": "8f62156c",
   "metadata": {},
   "outputs": [
    {
     "data": {
      "text/plain": [
       "RandomForestClassifier(criterion='entropy', random_state=0)"
      ]
     },
     "execution_count": 8,
     "metadata": {},
     "output_type": "execute_result"
    }
   ],
   "source": [
    "from sklearn.ensemble import RandomForestClassifier\n",
    "classifier5= RandomForestClassifier(criterion=\"entropy\",random_state=0)\n",
    "classifier5.fit(x_train,y_train)"
   ]
  },
  {
   "cell_type": "code",
   "execution_count": 9,
   "id": "7d7ee22d",
   "metadata": {},
   "outputs": [
    {
     "name": "stdout",
     "output_type": "stream",
     "text": [
      "[[1 1]\n",
      " [1 1]\n",
      " [1 1]\n",
      " ...\n",
      " [1 1]\n",
      " [1 1]\n",
      " [1 0]]\n"
     ]
    }
   ],
   "source": [
    "y_pred5= classifier5.predict(x_test)\n",
    "np.set_printoptions(precision=2)#TWO DIGIT AFTER DECIMAL\n",
    "print(np.concatenate((y_pred5.reshape(len(y_pred5),1),y_test.reshape(len(y_test),1)),axis=1))"
   ]
  },
  {
   "cell_type": "code",
   "execution_count": 10,
   "id": "7ef9f2c1",
   "metadata": {},
   "outputs": [
    {
     "data": {
      "text/plain": [
       "array([[ 123, 1051],\n",
       "       [  51, 8647]], dtype=int64)"
      ]
     },
     "execution_count": 10,
     "metadata": {},
     "output_type": "execute_result"
    }
   ],
   "source": [
    "from sklearn.metrics import confusion_matrix, accuracy_score\n",
    "confusion_matrix(y_test,y_pred5)"
   ]
  },
  {
   "cell_type": "code",
   "execution_count": 11,
   "id": "0ad6e7b1",
   "metadata": {},
   "outputs": [
    {
     "data": {
      "text/plain": [
       "0.8883711507293355"
      ]
     },
     "execution_count": 11,
     "metadata": {},
     "output_type": "execute_result"
    }
   ],
   "source": [
    "accuracy_score(y_test,y_pred5)"
   ]
  },
  {
   "cell_type": "code",
   "execution_count": 12,
   "id": "e757d254",
   "metadata": {},
   "outputs": [
    {
     "name": "stdout",
     "output_type": "stream",
     "text": [
      "              precision    recall  f1-score   support\n",
      "\n",
      "           0       0.71      0.10      0.18      1174\n",
      "           1       0.89      0.99      0.94      8698\n",
      "\n",
      "    accuracy                           0.89      9872\n",
      "   macro avg       0.80      0.55      0.56      9872\n",
      "weighted avg       0.87      0.89      0.85      9872\n",
      "\n"
     ]
    }
   ],
   "source": [
    "from sklearn.metrics import classification_report\n",
    "print(classification_report(y_test,y_pred5))"
   ]
  },
  {
   "cell_type": "markdown",
   "id": "254260cb",
   "metadata": {},
   "source": [
    "# SVM"
   ]
  },
  {
   "cell_type": "code",
   "execution_count": 37,
   "id": "55d1f140",
   "metadata": {},
   "outputs": [
    {
     "data": {
      "text/plain": [
       "SVC(random_state=0)"
      ]
     },
     "execution_count": 37,
     "metadata": {},
     "output_type": "execute_result"
    }
   ],
   "source": [
    "from sklearn.svm import SVC\n",
    "classifier6= SVC(kernel=\"rbf\",random_state=0)\n",
    "classifier6.fit(x_train,y_train)"
   ]
  },
  {
   "cell_type": "code",
   "execution_count": 38,
   "id": "dc92b2bb",
   "metadata": {},
   "outputs": [
    {
     "name": "stdout",
     "output_type": "stream",
     "text": [
      "[[1 1]\n",
      " [1 1]\n",
      " [1 1]\n",
      " ...\n",
      " [1 1]\n",
      " [1 1]\n",
      " [1 0]]\n"
     ]
    }
   ],
   "source": [
    "y_pred6= classifier6.predict(x_test)\n",
    "np.set_printoptions(precision=2)#TWO DIGIT AFTER DECIMAL\n",
    "print(np.concatenate((y_pred6.reshape(len(y_pred6),1),y_test.reshape(len(y_test),1)),axis=1))"
   ]
  },
  {
   "cell_type": "code",
   "execution_count": 39,
   "id": "91db3c13",
   "metadata": {},
   "outputs": [
    {
     "data": {
      "text/plain": [
       "array([[  28, 1146],\n",
       "       [   7, 8691]], dtype=int64)"
      ]
     },
     "execution_count": 39,
     "metadata": {},
     "output_type": "execute_result"
    }
   ],
   "source": [
    "from sklearn.metrics import confusion_matrix, accuracy_score\n",
    "confusion_matrix(y_test,y_pred6)"
   ]
  },
  {
   "cell_type": "code",
   "execution_count": 41,
   "id": "7d92c18a",
   "metadata": {},
   "outputs": [
    {
     "data": {
      "text/plain": [
       "0.8832050243111832"
      ]
     },
     "execution_count": 41,
     "metadata": {},
     "output_type": "execute_result"
    }
   ],
   "source": [
    "accuracy_score(y_test,y_pred6)"
   ]
  },
  {
   "cell_type": "code",
   "execution_count": 42,
   "id": "25ba12fd",
   "metadata": {},
   "outputs": [
    {
     "name": "stdout",
     "output_type": "stream",
     "text": [
      "              precision    recall  f1-score   support\n",
      "\n",
      "           0       0.80      0.02      0.05      1174\n",
      "           1       0.88      1.00      0.94      8698\n",
      "\n",
      "    accuracy                           0.88      9872\n",
      "   macro avg       0.84      0.51      0.49      9872\n",
      "weighted avg       0.87      0.88      0.83      9872\n",
      "\n"
     ]
    }
   ],
   "source": [
    "from sklearn.metrics import classification_report\n",
    "print(classification_report(y_test,y_pred6))"
   ]
  },
  {
   "cell_type": "markdown",
   "id": "e78e1ac0",
   "metadata": {},
   "source": [
    "# XGboost"
   ]
  },
  {
   "cell_type": "code",
   "execution_count": 43,
   "id": "ec99eec0",
   "metadata": {},
   "outputs": [
    {
     "name": "stderr",
     "output_type": "stream",
     "text": [
      "C:\\Users\\HP\\anaconda3\\lib\\site-packages\\xgboost\\sklearn.py:1224: UserWarning: The use of label encoder in XGBClassifier is deprecated and will be removed in a future release. To remove this warning, do the following: 1) Pass option use_label_encoder=False when constructing XGBClassifier object; and 2) Encode your labels (y) as integers starting with 0, i.e. 0, 1, 2, ..., [num_class - 1].\n",
      "  warnings.warn(label_encoder_deprecation_msg, UserWarning)\n"
     ]
    },
    {
     "name": "stdout",
     "output_type": "stream",
     "text": [
      "[18:14:04] WARNING: D:\\bld\\xgboost-split_1645118015404\\work\\src\\learner.cc:1115: Starting in XGBoost 1.3.0, the default evaluation metric used with the objective 'binary:logistic' was changed from 'error' to 'logloss'. Explicitly set eval_metric if you'd like to restore the old behavior.\n"
     ]
    },
    {
     "data": {
      "text/plain": [
       "XGBClassifier(base_score=0.5, booster='gbtree', colsample_bylevel=1,\n",
       "              colsample_bynode=1, colsample_bytree=1, enable_categorical=False,\n",
       "              gamma=0, gpu_id=-1, importance_type=None,\n",
       "              interaction_constraints='', learning_rate=0.300000012,\n",
       "              max_delta_step=0, max_depth=6, min_child_weight=1, missing=nan,\n",
       "              monotone_constraints='()', n_estimators=100, n_jobs=8,\n",
       "              num_parallel_tree=1, predictor='auto', random_state=0,\n",
       "              reg_alpha=0, reg_lambda=1, scale_pos_weight=1, subsample=1,\n",
       "              tree_method='exact', validate_parameters=1, verbosity=None)"
      ]
     },
     "execution_count": 43,
     "metadata": {},
     "output_type": "execute_result"
    }
   ],
   "source": [
    "from xgboost import XGBClassifier\n",
    "classifier7 = XGBClassifier()\n",
    "classifier7.fit(x_train, y_train)"
   ]
  },
  {
   "cell_type": "code",
   "execution_count": 44,
   "id": "eba29ba7",
   "metadata": {},
   "outputs": [
    {
     "name": "stdout",
     "output_type": "stream",
     "text": [
      "[[ 155 1019]\n",
      " [ 117 8581]]\n"
     ]
    },
    {
     "data": {
      "text/plain": [
       "0.8849270664505673"
      ]
     },
     "execution_count": 44,
     "metadata": {},
     "output_type": "execute_result"
    }
   ],
   "source": [
    "from sklearn.metrics import confusion_matrix, accuracy_score\n",
    "y_pred7 = classifier7.predict(x_test)\n",
    "cm = confusion_matrix(y_test, y_pred7)\n",
    "print(cm)\n",
    "accuracy_score(y_test, y_pred7)"
   ]
  },
  {
   "cell_type": "code",
   "execution_count": 45,
   "id": "3b82c622",
   "metadata": {
    "scrolled": true
   },
   "outputs": [
    {
     "name": "stdout",
     "output_type": "stream",
     "text": [
      "              precision    recall  f1-score   support\n",
      "\n",
      "           0       0.57      0.13      0.21      1174\n",
      "           1       0.89      0.99      0.94      8698\n",
      "\n",
      "    accuracy                           0.88      9872\n",
      "   macro avg       0.73      0.56      0.58      9872\n",
      "weighted avg       0.86      0.88      0.85      9872\n",
      "\n"
     ]
    }
   ],
   "source": [
    "from sklearn.metrics import classification_report\n",
    "print(classification_report(y_test,y_pred7))"
   ]
  },
  {
   "cell_type": "markdown",
   "id": "c175bf2b",
   "metadata": {},
   "source": [
    "# ENSEMBLE LEARNING"
   ]
  },
  {
   "cell_type": "markdown",
   "id": "d023083d",
   "metadata": {},
   "source": [
    "# Gradient Boosting"
   ]
  },
  {
   "cell_type": "code",
   "execution_count": 9,
   "id": "52c00f2c",
   "metadata": {},
   "outputs": [
    {
     "data": {
      "text/plain": [
       "GradientBoostingClassifier(learning_rate=1.0, max_depth=1, random_state=0)"
      ]
     },
     "execution_count": 9,
     "metadata": {},
     "output_type": "execute_result"
    }
   ],
   "source": [
    "from sklearn.ensemble import GradientBoostingClassifier\n",
    "classifier8= GradientBoostingClassifier(n_estimators=100,learning_rate=1.0,max_depth=1,random_state=0)\n",
    "classifier8.fit(x_train,y_train)"
   ]
  },
  {
   "cell_type": "code",
   "execution_count": 10,
   "id": "bfc5448f",
   "metadata": {},
   "outputs": [
    {
     "name": "stdout",
     "output_type": "stream",
     "text": [
      "[[1 1]\n",
      " [1 1]\n",
      " [1 1]\n",
      " ...\n",
      " [1 1]\n",
      " [1 1]\n",
      " [1 0]]\n"
     ]
    }
   ],
   "source": [
    "y_pred_gb= classifier8.predict(x_test)\n",
    "np.set_printoptions(precision=2)#TWO DIGIT AFTER DECIMAL\n",
    "print(np.concatenate((y_pred_gb.reshape(len(y_pred_gb),1),y_test.reshape(len(y_test),1)),axis=1))"
   ]
  },
  {
   "cell_type": "code",
   "execution_count": 11,
   "id": "41c0d7d9",
   "metadata": {},
   "outputs": [
    {
     "name": "stdout",
     "output_type": "stream",
     "text": [
      "[[ 126 1048]\n",
      " [  53 8645]]\n",
      "              precision    recall  f1-score   support\n",
      "\n",
      "           0       0.70      0.11      0.19      1174\n",
      "           1       0.89      0.99      0.94      8698\n",
      "\n",
      "    accuracy                           0.89      9872\n",
      "   macro avg       0.80      0.55      0.56      9872\n",
      "weighted avg       0.87      0.89      0.85      9872\n",
      "\n"
     ]
    },
    {
     "data": {
      "text/plain": [
       "0.8884724473257699"
      ]
     },
     "execution_count": 11,
     "metadata": {},
     "output_type": "execute_result"
    }
   ],
   "source": [
    "from sklearn.metrics import confusion_matrix, accuracy_score\n",
    "print(confusion_matrix(y_test,y_pred_gb))\n",
    "\n",
    "from sklearn.metrics import classification_report\n",
    "print(classification_report(y_test,y_pred_gb))\n",
    "\n",
    "accuracy_score(y_test,y_pred_gb)"
   ]
  },
  {
   "cell_type": "markdown",
   "id": "c4db5d3d",
   "metadata": {},
   "source": [
    "# Adaboost"
   ]
  },
  {
   "cell_type": "code",
   "execution_count": 12,
   "id": "9aafa6b3",
   "metadata": {},
   "outputs": [
    {
     "data": {
      "text/plain": [
       "AdaBoostClassifier(n_estimators=100, random_state=0)"
      ]
     },
     "execution_count": 12,
     "metadata": {},
     "output_type": "execute_result"
    }
   ],
   "source": [
    "from sklearn.ensemble import AdaBoostClassifier\n",
    "classifier9= AdaBoostClassifier(n_estimators=100,random_state=0)\n",
    "classifier9.fit(x_train,y_train)"
   ]
  },
  {
   "cell_type": "code",
   "execution_count": 13,
   "id": "ab6cab90",
   "metadata": {},
   "outputs": [
    {
     "name": "stdout",
     "output_type": "stream",
     "text": [
      "[[1 1]\n",
      " [1 1]\n",
      " [1 1]\n",
      " ...\n",
      " [1 1]\n",
      " [1 1]\n",
      " [1 0]]\n"
     ]
    }
   ],
   "source": [
    "y_pred_ab= classifier9.predict(x_test)\n",
    "np.set_printoptions(precision=2)#TWO DIGIT AFTER DECIMAL\n",
    "print(np.concatenate((y_pred_ab.reshape(len(y_pred_ab),1),y_test.reshape(len(y_test),1)),axis=1))"
   ]
  },
  {
   "cell_type": "code",
   "execution_count": 14,
   "id": "b8dbd794",
   "metadata": {},
   "outputs": [
    {
     "name": "stdout",
     "output_type": "stream",
     "text": [
      "[[ 130 1044]\n",
      " [  60 8638]]\n",
      "              precision    recall  f1-score   support\n",
      "\n",
      "           0       0.68      0.11      0.19      1174\n",
      "           1       0.89      0.99      0.94      8698\n",
      "\n",
      "    accuracy                           0.89      9872\n",
      "   macro avg       0.79      0.55      0.57      9872\n",
      "weighted avg       0.87      0.89      0.85      9872\n",
      "\n"
     ]
    },
    {
     "data": {
      "text/plain": [
       "0.8881685575364667"
      ]
     },
     "execution_count": 14,
     "metadata": {},
     "output_type": "execute_result"
    }
   ],
   "source": [
    "from sklearn.metrics import confusion_matrix, accuracy_score\n",
    "print(confusion_matrix(y_test,y_pred_ab))\n",
    "\n",
    "from sklearn.metrics import classification_report\n",
    "print(classification_report(y_test,y_pred_ab))\n",
    "\n",
    "accuracy_score(y_test,y_pred_ab)"
   ]
  },
  {
   "cell_type": "markdown",
   "id": "82be3d7c",
   "metadata": {},
   "source": [
    "# Bagging"
   ]
  },
  {
   "cell_type": "code",
   "execution_count": 15,
   "id": "19861054",
   "metadata": {},
   "outputs": [
    {
     "data": {
      "text/plain": [
       "BaggingClassifier(base_estimator=SVC(), random_state=0)"
      ]
     },
     "execution_count": 15,
     "metadata": {},
     "output_type": "execute_result"
    }
   ],
   "source": [
    "from sklearn.ensemble import BaggingClassifier\n",
    "from sklearn.svm import SVC\n",
    "classifier10= BaggingClassifier(base_estimator=SVC(),n_estimators=10,random_state=0)\n",
    "classifier10.fit(x_train,y_train)"
   ]
  },
  {
   "cell_type": "code",
   "execution_count": 16,
   "id": "594a298d",
   "metadata": {},
   "outputs": [
    {
     "name": "stdout",
     "output_type": "stream",
     "text": [
      "[[1 1]\n",
      " [1 1]\n",
      " [1 1]\n",
      " ...\n",
      " [1 1]\n",
      " [1 1]\n",
      " [1 0]]\n"
     ]
    }
   ],
   "source": [
    "y_pred_boost= classifier10.predict(x_test)\n",
    "np.set_printoptions(precision=2)#TWO DIGIT AFTER DECIMAL\n",
    "print(np.concatenate((y_pred_boost.reshape(len(y_pred_boost),1),y_test.reshape(len(y_test),1)),axis=1))"
   ]
  },
  {
   "cell_type": "code",
   "execution_count": 18,
   "id": "f6707b40",
   "metadata": {},
   "outputs": [
    {
     "name": "stdout",
     "output_type": "stream",
     "text": [
      "[[  38 1136]\n",
      " [  11 8687]]\n",
      "              precision    recall  f1-score   support\n",
      "\n",
      "           0       0.78      0.03      0.06      1174\n",
      "           1       0.88      1.00      0.94      8698\n",
      "\n",
      "    accuracy                           0.88      9872\n",
      "   macro avg       0.83      0.52      0.50      9872\n",
      "weighted avg       0.87      0.88      0.83      9872\n",
      "\n"
     ]
    },
    {
     "data": {
      "text/plain": [
       "0.8838128038897893"
      ]
     },
     "execution_count": 18,
     "metadata": {},
     "output_type": "execute_result"
    }
   ],
   "source": [
    "from sklearn.metrics import confusion_matrix, accuracy_score\n",
    "print(confusion_matrix(y_test,y_pred_boost))\n",
    "\n",
    "from sklearn.metrics import classification_report\n",
    "print(classification_report(y_test,y_pred_boost))\n",
    "\n",
    "accuracy_score(y_test,y_pred_boost)"
   ]
  },
  {
   "cell_type": "code",
   "execution_count": 1,
   "id": "6578635a",
   "metadata": {},
   "outputs": [
    {
     "data": {
      "text/plain": [
       "(0.8877633711507293,\n",
       " 0.886441952894117,\n",
       " 0.8747974068071313,\n",
       " 0.8686183144246353,\n",
       " 0.8883711507293355,\n",
       " 0.8832050243111832,\n",
       " 0.8849270664505673,\n",
       " 0.8884724473257699,\n",
       " 0.8881685575364667,\n",
       " 0.8838128038897893)"
      ]
     },
     "execution_count": 1,
     "metadata": {},
     "output_type": "execute_result"
    }
   ],
   "source": [
    "Accuracy = (0.8877633711507293,0.886441952894117,0.8747974068071313,0.8686183144246353,0.8883711507293355,0.8832050243111832,\n",
    "           0.8849270664505673,0.8884724473257699,0.8881685575364667,0.8838128038897893)\n",
    "Accuracy"
   ]
  },
  {
   "cell_type": "code",
   "execution_count": 2,
   "id": "f32162e0",
   "metadata": {},
   "outputs": [],
   "source": [
    "Classifier = [\"LR\",\"DT\",\"KNN\",\"NB\",\"RF\",\"SVM\",\"XGB\",\"GB\",\"AB\",\"Bag\"]"
   ]
  },
  {
   "cell_type": "code",
   "execution_count": 45,
   "id": "2b6fc12d",
   "metadata": {},
   "outputs": [
    {
     "data": {
      "image/png": "[encoded data removed]",
      "text/plain": [
       "<Figure size 432x288 with 1 Axes>"
      ]
     },
     "metadata": {
      "needs_background": "light"
     },
     "output_type": "display_data"
    }
   ],
   "source": [
    "plt.bar(Classifier,Accuracy)\n",
    "plt.ylim([0.85,0.89])\n",
    "plt.xlabel(\"Clssifier\")\n",
    "plt.ylabel(\"Accuracy\")\n",
    "plt.savefig('test_3.jpg')"
   ]
  },
  {
   "cell_type": "code",
   "execution_count": 38,
   "id": "e3744ea0",
   "metadata": {},
   "outputs": [],
   "source": [
    "F1_score = (0.94,0.94,0.93,0.93,0.94,0.94,0.94,0.94,0.94,0.94)   "
   ]
  },
  {
   "cell_type": "code",
   "execution_count": 40,
   "id": "8726c078",
   "metadata": {},
   "outputs": [
    {
     "data": {
      "image/png": "[encoded data removed]",
      "text/plain": [
       "<Figure size 432x288 with 1 Axes>"
      ]
     },
     "metadata": {
      "needs_background": "light"
     },
     "output_type": "display_data"
    }
   ],
   "source": [
    "w=0.4\n",
    "bar1=np.arange(len(Classifier))\n",
    "plt.ylim([0.0,1])\n",
    "\n",
    "bar2=[i+w for i in bar1]\n",
    "plt.bar(bar1,Accuracy,0.4,label=\"Accuracy\")\n",
    "plt.bar(bar2,F1_score,0.4,label=\"F1 value\")\n",
    "plt.xlabel(\"Classifier\")\n",
    "plt.ylabel(\"accuracy and f1 score in %\")\n",
    "plt.xticks(bar1+w/2,Classifier)\n",
    "plt.legend()\n",
    "plt.savefig('test_4.jpg')"
   ]
  },
  {
   "cell_type": "code",
   "execution_count": null,
   "id": "d9dc28cb",
   "metadata": {},
   "outputs": [],
   "source": []
  }
 ],
 "metadata": {
  "kernelspec": {
   "display_name": "Python 3",
   "language": "python",
   "name": "python3"
  },
  "language_info": {
   "codemirror_mode": {
    "name": "ipython",
    "version": 3
   },
   "file_extension": ".py",
   "mimetype": "text/x-python",
   "name": "python",
   "nbconvert_exporter": "python",
   "pygments_lexer": "ipython3",
   "version": "3.8.5"
  }
 },
 "nbformat": 4,
 "nbformat_minor": 5
}
